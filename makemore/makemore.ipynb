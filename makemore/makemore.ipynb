{
 "cells": [
  {
   "cell_type": "code",
   "execution_count": 75,
   "metadata": {},
   "outputs": [],
   "source": [
    "import torch\n",
    "import matplotlib.pyplot as plt\n",
    "import numpy as np\n",
    "%matplotlib inline"
   ]
  },
  {
   "cell_type": "code",
   "execution_count": 2,
   "metadata": {},
   "outputs": [],
   "source": [
    "names = open('names.txt', 'r').read().splitlines()"
   ]
  },
  {
   "cell_type": "markdown",
   "metadata": {},
   "source": [
    "# Bigram Language Model \n",
    "one character is given and we are only predicting the next character"
   ]
  },
  {
   "cell_type": "code",
   "execution_count": 16,
   "metadata": {},
   "outputs": [],
   "source": [
    "b = {}\n",
    "for n in names:\n",
    "    chs = ['<S>'] + list(n) + ['<E>']\n",
    "    for ch1, ch2 in zip(chs, chs[1:]): \n",
    "        bigram = (ch1, ch2)\n",
    "        b[bigram] = b.get(bigram, 0) + 1"
   ]
  },
  {
   "cell_type": "code",
   "execution_count": null,
   "metadata": {},
   "outputs": [],
   "source": [
    "# sorting based on the second value of \n",
    "# the dictionary, -ive sort in decreasing order\n",
    "sorted(b.items(), key=lambda kv: -kv[1]) "
   ]
  },
  {
   "cell_type": "code",
   "execution_count": 29,
   "metadata": {},
   "outputs": [],
   "source": [
    "N = torch.zeros((28, 28), dtype=torch.int32)"
   ]
  },
  {
   "cell_type": "code",
   "execution_count": 62,
   "metadata": {},
   "outputs": [],
   "source": [
    "chars = sorted(list(set(''.join(names))))\n",
    "stoi = {k:v for k, v in enumerate(chars)}"
   ]
  },
  {
   "cell_type": "code",
   "execution_count": null,
   "metadata": {},
   "outputs": [],
   "source": [
    "# stoi = {k: int(ord(k) - 97) for n in names for k in n}\n",
    "# stoi = {k:v for k, v in sorted(stoi.items())}\n",
    "\n",
    "# --- second method \n",
    "chars = sorted(list(set(''.join(names))))\n",
    "stoi = {v:i for i, v in enumerate(chars)}\n",
    "\n",
    "\n",
    "stoi['<S>'] = 26\n",
    "stoi['<E>'] = 27\n",
    "\n",
    "itos = {v:k for k, v in stoi.items()}\n",
    "stoi, itos"
   ]
  },
  {
   "cell_type": "code",
   "execution_count": 68,
   "metadata": {},
   "outputs": [],
   "source": [
    "for n in names:\n",
    "    chs = ['<S>'] + list(n) + ['<E>']\n",
    "    for ch1, ch2 in zip(chs, chs[1:]): \n",
    "       x1, x2 = stoi[ch1], stoi[ch2]\n",
    "       N[x1, x2] += 1"
   ]
  },
  {
   "cell_type": "code",
   "execution_count": null,
   "metadata": {},
   "outputs": [],
   "source": []
  },
  {
   "cell_type": "code",
   "execution_count": null,
   "metadata": {},
   "outputs": [],
   "source": []
  }
 ],
 "metadata": {
  "kernelspec": {
   "display_name": "venv",
   "language": "python",
   "name": "python3"
  },
  "language_info": {
   "codemirror_mode": {
    "name": "ipython",
    "version": 3
   },
   "file_extension": ".py",
   "mimetype": "text/x-python",
   "name": "python",
   "nbconvert_exporter": "python",
   "pygments_lexer": "ipython3",
   "version": "3.11.4"
  },
  "orig_nbformat": 4
 },
 "nbformat": 4,
 "nbformat_minor": 2
}
